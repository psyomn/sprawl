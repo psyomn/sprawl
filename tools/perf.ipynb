{
 "cells": [
  {
   "cell_type": "code",
   "execution_count": null,
   "id": "87e3257f",
   "metadata": {
    "scrolled": true
   },
   "outputs": [],
   "source": [
    "# prereqs: need stackcollapse-perf.pl and flamegraph.pl flamegraph tools to run these successfully\n",
    "# !perf record -a -F 99 -p $(pgrep psycal) -g -- sleep 10\n",
    "!perf record -F 99 -g  /home/psyomn/programming/cc/cacophagy/bazel-bin/ds/psyds_test --gtest_repeat=100000 > /dev/null"
   ]
  },
  {
   "cell_type": "code",
   "execution_count": null,
   "id": "23a443ab",
   "metadata": {},
   "outputs": [],
   "source": [
    "!perf script | stackcollapse-perf.pl > out.perf-folded"
   ]
  },
  {
   "cell_type": "code",
   "execution_count": null,
   "id": "49fce4af",
   "metadata": {},
   "outputs": [],
   "source": [
    "!flamegraph.pl out.perf-folded > perf-kernel.svg"
   ]
  },
  {
   "cell_type": "code",
   "execution_count": null,
   "id": "ef3bf30f",
   "metadata": {},
   "outputs": [],
   "source": [
    "from IPython.display import SVG, Image \n",
    "display(SVG(\"./perf-kernel.svg\"))"
   ]
  },
  {
   "cell_type": "code",
   "execution_count": null,
   "id": "d3649d11",
   "metadata": {},
   "outputs": [],
   "source": []
  },
  {
   "cell_type": "code",
   "execution_count": null,
   "id": "e5cb5515",
   "metadata": {},
   "outputs": [],
   "source": []
  },
  {
   "cell_type": "code",
   "execution_count": null,
   "id": "6898324f",
   "metadata": {},
   "outputs": [],
   "source": []
  }
 ],
 "metadata": {
  "kernelspec": {
   "display_name": "Python 3",
   "language": "python",
   "name": "python3"
  },
  "language_info": {
   "codemirror_mode": {
    "name": "ipython",
    "version": 3
   },
   "file_extension": ".py",
   "mimetype": "text/x-python",
   "name": "python",
   "nbconvert_exporter": "python",
   "pygments_lexer": "ipython3",
   "version": "3.9.6"
  }
 },
 "nbformat": 4,
 "nbformat_minor": 5
}
